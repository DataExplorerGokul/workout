{
 "cells": [
  {
   "cell_type": "markdown",
   "metadata": {
    "id": "scnh4Auef-b3"
   },
   "source": [
    "Project On E -Commerce Customer Segmentation\n",
    "\n",
    "The dataset contains details regarding the Invoice number,Stock code,description,Qunatity,Invoice date,Unit Price,CustomerID & Country"
   ]
  },
  {
   "cell_type": "markdown",
   "metadata": {
    "id": "jt-ct06evwai"
   },
   "source": [
    "# Importing Libraries"
   ]
  },
  {
   "cell_type": "code",
   "execution_count": null,
   "metadata": {
    "id": "NCy2FoTWv0m7"
   },
   "outputs": [],
   "source": [
    "import pandas as pd\n",
    "import numpy as np\n",
    "import matplotlib as mpl\n",
    "import matplotlib.pyplot as plt\n",
    "import seaborn as sns\n",
    "import datetime, nltk, warnings"
   ]
  },
  {
   "cell_type": "markdown",
   "metadata": {
    "id": "xJzywIqgxv5F"
   },
   "source": [
    "# Load and read the dataset"
   ]
  },
  {
   "cell_type": "code",
   "execution_count": null,
   "metadata": {
    "colab": {
     "base_uri": "https://localhost:8080/"
    },
    "id": "YGaqd9y1xyiQ",
    "outputId": "844859d4-9400-4818-e6ca-4867b9f50c07"
   },
   "outputs": [],
   "source": [
    "df=pd.read_csv(\"data (1).csv\",encoding=\"ISO-8859-1\")\n",
    "df.shape"
   ]
  },
  {
   "cell_type": "code",
   "execution_count": null,
   "metadata": {
    "colab": {
     "base_uri": "https://localhost:8080/",
     "height": 337
    },
    "id": "RJVgpmuOFT6q",
    "outputId": "ca28cbe6-87c7-4bf2-89fe-302090bd0438"
   },
   "outputs": [],
   "source": [
    " # displays first five rows\n",
    "df.head()        "
   ]
  },
  {
   "cell_type": "code",
   "execution_count": null,
   "metadata": {
    "colab": {
     "base_uri": "https://localhost:8080/"
    },
    "id": "sfoo45tVFy1p",
    "outputId": "f55390a1-9874-46e2-9a40-15521313540b"
   },
   "outputs": [],
   "source": [
    "#data type\n",
    "df.dtypes                                                                    "
   ]
  },
  {
   "cell_type": "code",
   "execution_count": null,
   "metadata": {
    "colab": {
     "base_uri": "https://localhost:8080/"
    },
    "id": "-9T_4Zno-0YC",
    "outputId": "5d6fa667-44ef-4c22-d570-d09d5d895c66"
   },
   "outputs": [],
   "source": [
    "df['InvoiceDate'] = pd.to_datetime(df['InvoiceDate'])\n",
    "df.dtypes"
   ]
  },
  {
   "cell_type": "code",
   "execution_count": null,
   "metadata": {
    "colab": {
     "base_uri": "https://localhost:8080/"
    },
    "id": "F_PRsvcdGApb",
    "outputId": "333af410-65f2-4729-dfd3-db17610f8b0b"
   },
   "outputs": [],
   "source": [
    "# check for null values\n",
    "df.isnull().sum()                                                    "
   ]
  },
  {
   "cell_type": "markdown",
   "metadata": {
    "id": "tcRM_IH5GXiY"
   },
   "source": [
    "With the enormous data available, it is impossible to impute values for the customerID. So deleting the missing values in customerID from the dataframe."
   ]
  },
  {
   "cell_type": "code",
   "execution_count": null,
   "metadata": {
    "colab": {
     "base_uri": "https://localhost:8080/"
    },
    "id": "5ZyfSZOFGej8",
    "outputId": "c18db9f8-da33-4a94-b003-2d41bf5aad3e"
   },
   "outputs": [],
   "source": [
    "#dropping the missing values/rows from the CustomerID\n",
    "\n",
    "df.dropna(axis = 0, subset = ['CustomerID'], inplace = True)                              \n",
    "df.shape"
   ]
  },
  {
   "cell_type": "code",
   "execution_count": null,
   "metadata": {
    "colab": {
     "base_uri": "https://localhost:8080/"
    },
    "id": "W2nuvTjXHSMx",
    "outputId": "db779263-9ae3-49f9-b8ca-e716b54f8655"
   },
   "outputs": [],
   "source": [
    "df.isnull().sum()"
   ]
  },
  {
   "cell_type": "markdown",
   "metadata": {
    "id": "XNl-2bFPtjZz"
   },
   "source": [
    "#Checking for duplicate entries and deleting them ."
   ]
  },
  {
   "cell_type": "code",
   "execution_count": null,
   "metadata": {
    "colab": {
     "base_uri": "https://localhost:8080/"
    },
    "id": "hVyGmgGBHuPV",
    "outputId": "5da290a5-48d9-4077-90a8-a7787928edd3"
   },
   "outputs": [],
   "source": [
    "df['Country'].duplicated().value_counts()"
   ]
  },
  {
   "cell_type": "code",
   "execution_count": null,
   "metadata": {
    "colab": {
     "base_uri": "https://localhost:8080/"
    },
    "id": "ide2GIsvt3A9",
    "outputId": "0249ed21-2d31-4263-dd00-d8edbd9df424"
   },
   "outputs": [],
   "source": [
    "df['InvoiceNo'].duplicated().value_counts()"
   ]
  },
  {
   "cell_type": "code",
   "execution_count": null,
   "metadata": {
    "colab": {
     "base_uri": "https://localhost:8080/"
    },
    "id": "Kd7fkcuFuL1b",
    "outputId": "eb750a5a-53c9-4c5b-b81a-b2500fd8a876"
   },
   "outputs": [],
   "source": [
    "df.duplicated().sum()\n"
   ]
  },
  {
   "cell_type": "code",
   "execution_count": null,
   "metadata": {
    "colab": {
     "base_uri": "https://localhost:8080/"
    },
    "id": "7VJEOVWE3Evx",
    "outputId": "7f1aeb3d-5a5d-4cbc-d632-659c035a5196"
   },
   "outputs": [],
   "source": [
    "df.drop_duplicates(inplace = True)\n",
    "df.shape"
   ]
  },
  {
   "cell_type": "markdown",
   "metadata": {
    "id": "iSZis7euB0sQ"
   },
   "source": [
    "# Doing NLP in the description colum\n",
    "-removing spaces & number\n",
    "-converting to small letters"
   ]
  },
  {
   "cell_type": "code",
   "execution_count": null,
   "metadata": {
    "colab": {
     "base_uri": "https://localhost:8080/"
    },
    "id": "0bjxI4c1xoog",
    "outputId": "cf2558cc-a926-43e6-a53c-855d4492a8aa"
   },
   "outputs": [],
   "source": [
    "df[\"Description\"]"
   ]
  },
  {
   "cell_type": "code",
   "execution_count": null,
   "metadata": {
    "colab": {
     "base_uri": "https://localhost:8080/"
    },
    "id": "K3zFMtJ36hBw",
    "outputId": "cdeb0150-243c-468e-86f0-421bf4a89411"
   },
   "outputs": [],
   "source": [
    "df[\"Desc_new\"]=df[\"Description\"].str.replace(\"[^a-zA-Z]\",\"  \")\n",
    "#df[\"Desc_new\"]=df[\"Desc_new\"].astype(str)\n",
    "df[\"Desc_new\"]"
   ]
  },
  {
   "cell_type": "code",
   "execution_count": null,
   "metadata": {
    "colab": {
     "base_uri": "https://localhost:8080/"
    },
    "id": "Nm6zOHOK7c8l",
    "outputId": "af5c9b9c-36ff-4cfa-b10b-c723100c702b"
   },
   "outputs": [],
   "source": [
    "df[\"Desc_new\"]=df[\"Desc_new\"].apply(lambda row:\" \".join([word for word in row.split() if len(word)>2]))\n",
    "df[\"Desc_new\"]"
   ]
  },
  {
   "cell_type": "code",
   "execution_count": null,
   "metadata": {
    "colab": {
     "base_uri": "https://localhost:8080/"
    },
    "id": "1q4_pRBoBOyD",
    "outputId": "167073eb-510a-4fdb-c7a3-4a0b3328e752"
   },
   "outputs": [],
   "source": [
    "df[\"Desc_new\"]=[review.lower() for review in df[\"Desc_new\"]]\n",
    "df[\"Desc_new\"]\n",
    "                "
   ]
  },
  {
   "cell_type": "markdown",
   "metadata": {
    "id": "CGwGzHp1jhSi"
   },
   "source": [
    "#Removing Stop words ,lemmatising"
   ]
  },
  {
   "cell_type": "code",
   "execution_count": null,
   "metadata": {
    "colab": {
     "base_uri": "https://localhost:8080/"
    },
    "id": "t5q4ec6gB8B8",
    "outputId": "68df175e-7c76-4134-c70c-61411e5c6351"
   },
   "outputs": [],
   "source": [
    "import nltk\n",
    "nltk.download('punkt')\n",
    "nltk.download('stopwords')\n",
    "from nltk.corpus import stopwords\n",
    "from nltk import word_tokenize\n",
    "stopwrds =stopwords.words('english')\n",
    "\n",
    "#Making cutom list of stop words to be removed\n",
    "addwrds=[]\n",
    "\n",
    "#Adding to thelist of words\n",
    "stopwrds.extend(addwrds)\n",
    "\n",
    "#Function to remove stop words\n",
    "def remove_stopwrds(rev):\n",
    "  review_tokenized=word_tokenize(rev)\n",
    "  rev_new=\" \".join([i for i in review_tokenized if i not in stopwrds])\n",
    "  return rev_new\n",
    "\n",
    "\n",
    "#Removing Stop words\n",
    "df['Desc_new']=[remove_stopwrds(r) for r in df['Desc_new']]\n",
    "\n",
    "\n"
   ]
  },
  {
   "cell_type": "code",
   "execution_count": null,
   "metadata": {
    "colab": {
     "base_uri": "https://localhost:8080/"
    },
    "id": "weYO1hFOE2uK",
    "outputId": "8feef743-6500-4b99-dc0b-6568780b5ff5"
   },
   "outputs": [],
   "source": [
    "#Begin Lemmatisation\n",
    "nltk.download(\"wordnet\")\n",
    "from nltk.stem import PorterStemmer, WordNetLemmatizer\n",
    "from nltk.corpus import wordnet\n",
    "nltk.download('averaged_perceptron_tagger')\n",
    "\n",
    "#function to convert nltk tag to wordnet tag\n",
    "lemmatizer=WordNetLemmatizer()\n",
    "\n",
    "def nltk_tag_to_wordnet_tag(nltk_tag):\n",
    "  if nltk_tag.startwith('J'):\n",
    "    return wordnet.ADJ\n",
    "  elif nltk_tag.startwith('V'):\n",
    "    return wordnet.VERB\n",
    "  elif nltk_tag.startwith('N'):\n",
    "    return wordnet.NOUN\n",
    "  elif nltk_tag.startwith('R'):\n",
    "    return wordnet.ADJ\n",
    "  else:\n",
    "    return None\n",
    "\n",
    "\n",
    "def lemmatize_sentence(sentence):\n",
    "  nltk_tagged = nltk.pos_tag(nltk.word_-word_tokenize(sentence))\n",
    "  wordnet_tagged=map(lambda x:(x[0],nltk_tag_to_wordnet_tag(x[1])),nltk_tagged)\n",
    "\n",
    "  lemmatized_sentence = []\n",
    "  for word,tag in wordnet_tagged:\n",
    "    if tag is None:\n",
    "      lemmatized_sentence.append(word)\n",
    "    else:\n",
    "     lemmatized_sentence.append(lemmatizer.lemmatize(word,tag))\n",
    "  return \" \".join(lemmatized_sentence)\n",
    "\n",
    "\n",
    "  df[\"Desc_new\"]=df['Desc_new'].apply(lambda x:lemmatize_sentence(x))\n",
    "\n"
   ]
  },
  {
   "cell_type": "code",
   "execution_count": null,
   "metadata": {
    "colab": {
     "base_uri": "https://localhost:8080/",
     "height": 780
    },
    "id": "fnm64uryKUhf",
    "outputId": "02c25ab4-c9e8-4bfe-d512-337a6ae5eed8"
   },
   "outputs": [],
   "source": [
    "df"
   ]
  },
  {
   "cell_type": "code",
   "execution_count": null,
   "metadata": {
    "colab": {
     "base_uri": "https://localhost:8080/",
     "height": 424
    },
    "id": "iPqNAJkcNmte",
    "outputId": "43eb7363-6336-4568-b68b-7e11e591ada1"
   },
   "outputs": [],
   "source": [
    "#Removing duplicated descriptions\n",
    "df2=df[\"Desc_new\"].drop_duplicates()\n",
    "df2=pd.DataFrame(df2)\n",
    "df2"
   ]
  },
  {
   "cell_type": "code",
   "execution_count": null,
   "metadata": {
    "colab": {
     "base_uri": "https://localhost:8080/"
    },
    "id": "uAeBkppZN6tb",
    "outputId": "6b6e046d-60ea-4f7c-e0fc-43a40669ace3"
   },
   "outputs": [],
   "source": [
    "#Import the libraries we need\n",
    "from sklearn.feature_extraction.text import CountVectorizer # give you the bag of words model\n",
    "import pandas as pd\n",
    "\n",
    "# Step 2. Design the Vocabulary\n",
    "# The default token pattern removes tokens of a single character. That's why we don't have the \"I\" and \"s\" tokens in the output\n",
    "count_vectorizer = CountVectorizer(binary = False) \n",
    "\n",
    "# Step 3. Create the Bag-of-Words Model\n",
    "bag_of_words = count_vectorizer.fit_transform(df2[\"Desc_new\"]) # fit - design the vocbulary and transform will convert the text into numbers based on the presence of the word\n",
    "\n",
    "# Show the Bag-of-Words Model as a pandas DataFrame\n",
    "feature_names = count_vectorizer.get_feature_names_out()\n",
    "\n",
    "df3=pd.DataFrame(bag_of_words.toarray(), columns = feature_names)"
   ]
  },
  {
   "cell_type": "code",
   "execution_count": null,
   "metadata": {
    "colab": {
     "base_uri": "https://localhost:8080/",
     "height": 488
    },
    "id": "DAMV6QeYQoQ-",
    "outputId": "235752c5-da4f-4893-a0f0-c7992e64ca5d"
   },
   "outputs": [],
   "source": [
    "#shows the words in description colum\n",
    "df3"
   ]
  },
  {
   "cell_type": "code",
   "execution_count": null,
   "metadata": {
    "colab": {
     "base_uri": "https://localhost:8080/"
    },
    "id": "BlSb7xSXcVki",
    "outputId": "d6630aa2-cbe6-4e53-e405-4812af255914"
   },
   "outputs": [],
   "source": [
    "x=bag_of_words.toarray()\n",
    "x"
   ]
  },
  {
   "cell_type": "markdown",
   "metadata": {
    "id": "2EdxHkxsc6i2"
   },
   "source": [
    "#Using K-means clustering"
   ]
  },
  {
   "cell_type": "code",
   "execution_count": null,
   "metadata": {
    "id": "ySGElokuck11"
   },
   "outputs": [],
   "source": [
    "\n",
    "from sklearn.cluster import KMeans \n",
    "from sklearn.preprocessing import StandardScaler \n",
    "import matplotlib.pyplot as plt \n",
    "%matplotlib inline \n",
    "plt.style.use(\"fivethirtyeight\") \n",
    "from warnings import filterwarnings \n",
    "filterwarnings(\"ignore\")"
   ]
  },
  {
   "cell_type": "markdown",
   "metadata": {
    "id": "n-YmL6qhel-p"
   },
   "source": [
    "To find the optimal value of K we are use Elbow plot ,where k is the hyperparameter.\n"
   ]
  },
  {
   "cell_type": "code",
   "execution_count": null,
   "metadata": {
    "id": "rSSBOYmoeOnH"
   },
   "outputs": [],
   "source": [
    "list_k=list(range(1,25)) \n",
    "inertias = [] \n",
    "for k in list_k:\n",
    "    km = KMeans(n_clusters=k) \n",
    "    km.fit(x) \n",
    "    inertias.append(km.inertia_)"
   ]
  },
  {
   "cell_type": "code",
   "execution_count": null,
   "metadata": {
    "colab": {
     "base_uri": "https://localhost:8080/",
     "height": 401
    },
    "id": "SOgZdmbLe7Od",
    "outputId": "2606129a-2f71-4089-d966-f49a87a5aa99"
   },
   "outputs": [],
   "source": [
    "# Make elbow plot \n",
    "plt.figure(figsize = (5, 5)) \n",
    "plt.title('Elbow plot') \n",
    "plt.plot(list_k,inertias,'-o')\n",
    "plt.xlabel('Clusters of *k*') \n",
    "plt.ylabel('Sum of squared error')"
   ]
  },
  {
   "cell_type": "markdown",
   "metadata": {
    "id": "bphJE_Cbh2QG"
   },
   "source": [
    "Here we used Kmeans to find the optimal vlaue of K Since there is no optimal value that can be infered here with the elbow plot we will do PCA.(Principal Component Analysis)"
   ]
  },
  {
   "cell_type": "code",
   "execution_count": null,
   "metadata": {
    "id": "cae-yvGwiHLq"
   },
   "outputs": [],
   "source": [
    "sc=StandardScaler() #performing standarisation  \n",
    "X_scaled= sc.fit_transform(x)"
   ]
  },
  {
   "cell_type": "code",
   "execution_count": null,
   "metadata": {
    "colab": {
     "base_uri": "https://localhost:8080/"
    },
    "id": "DL1NQAU_jNkr",
    "outputId": "7ee2fe25-55e1-4507-8c48-64564456fd19"
   },
   "outputs": [],
   "source": [
    "from sklearn.decomposition import PCA\n",
    "components= None\n",
    "pca=PCA(n_components = components) #components is the number of reduced relevant columns (hyperparameter) \n",
    "pca.fit(x)                                                                        "
   ]
  },
  {
   "cell_type": "code",
   "execution_count": null,
   "metadata": {
    "colab": {
     "base_uri": "https://localhost:8080/"
    },
    "id": "XVWYE5pqkzVL",
    "outputId": "ca24dded-b48f-45f1-e01c-cf2dd9771afb"
   },
   "outputs": [],
   "source": [
    "#prints the  variance\n",
    "print(\"Variances(Percentage)\")\n",
    "print(pca.explained_variance_ratio_*100)\n"
   ]
  },
  {
   "cell_type": "code",
   "execution_count": null,
   "metadata": {},
   "outputs": [],
   "source": [
    "print(\"cumulative variance (Percentage)\") \n",
    "print((pca.explained_variance_ratio_.cumsum() * 100)[:100])"
   ]
  },
  {
   "cell_type": "code",
   "execution_count": null,
   "metadata": {
    "colab": {
     "base_uri": "https://localhost:8080/",
     "height": 322
    },
    "id": "LCJ3Z4eBn6gh",
    "outputId": "923cc53d-6ad7-4e9d-9656-3e47f2120dba"
   },
   "outputs": [],
   "source": [
    "#plot the cumulative varience\n",
    "components=len(pca.explained_variance_ratio_)\\\n",
    "if components  is None else components\n",
    "plt.plot(range(1,components+1),np.cumsum(pca.explained_variance_ratio_*100))\n",
    "plt.xlabel(\"Number of components\")\n",
    "plt.ylabel(\"Explained variance(%)\")\n",
    "         "
   ]
  },
  {
   "cell_type": "code",
   "execution_count": null,
   "metadata": {
    "colab": {
     "base_uri": "https://localhost:8080/",
     "height": 341
    },
    "id": "QlvMPDCdmIpe",
    "outputId": "7618f078-07c7-429e-b74e-faa50588a7ae"
   },
   "outputs": [],
   "source": [
    "#From the above graph we can see that it takes 1500 components to reach flat curve(100% varience).\n",
    "# choosing around  90% of variations:\n",
    "from sklearn.decomposition import PCA\n",
    "\n",
    "pca = PCA(n_components = 0.90)\n",
    "pca.fit(x)\n",
    "\n",
    "# optimum no:of components\n",
    "components = len(pca.explained_variance_ratio_)\n",
    "print(f'Number of components: {components}')\n",
    "\n",
    "# Make the scree plot\n",
    "plt.plot(range(1, components + 1), np.cumsum(pca.explained_variance_ratio_ * 100))\n",
    "plt.xlabel(\"Number of components\")\n",
    "plt.ylabel(\"Explained variance (%)\")"
   ]
  },
  {
   "cell_type": "markdown",
   "metadata": {
    "id": "x2Ge4ZVJm_9b"
   },
   "source": [
    "Applying PCA:\n",
    "PCA  helps in  lower dimension of data,while keeping all original variables in the model."
   ]
  },
  {
   "cell_type": "code",
   "execution_count": null,
   "metadata": {
    "colab": {
     "base_uri": "https://localhost:8080/"
    },
    "id": "5QHT7uv-t8_3",
    "outputId": "b08b0a68-54af-4038-8c17-8f3693c20ed9"
   },
   "outputs": [],
   "source": [
    "from sklearn.decomposition import PCA\n",
    "\n",
    "pca=PCA(638)\n",
    "Principal_Component_Analysis=pca.fit_transform(x)\n",
    "Principal_Component_Analysis.shape"
   ]
  },
  {
   "cell_type": "code",
   "execution_count": null,
   "metadata": {
    "id": "m7g7hHdVuh8v"
   },
   "outputs": [],
   "source": [
    "#Elbow plot\n",
    "#We make a plot btwn K value and inertia\n",
    "\n",
    "list_k=list(range(1,20))\n",
    "inertias = []\n",
    "for k in list_k:\n",
    "    km = KMeans(n_clusters=k)\n",
    "    km.fit(x)\n",
    "    inertias.append(km.inertia_)"
   ]
  },
  {
   "cell_type": "code",
   "execution_count": null,
   "metadata": {
    "colab": {
     "base_uri": "https://localhost:8080/",
     "height": 401
    },
    "id": "FYwPogGcvB98",
    "outputId": "1b0db6d2-b99f-43d7-eb32-9ef02508c620"
   },
   "outputs": [],
   "source": [
    "# Make elbow plot\n",
    "plt.figure(figsize = (5, 5))\n",
    "plt.title('Elbow plot')\n",
    "plt.plot(list_k,inertias,'-o')\n",
    "plt.xlabel('Clusters of *k*')\n",
    "plt.ylabel('Sum of squared error')"
   ]
  },
  {
   "cell_type": "code",
   "execution_count": null,
   "metadata": {
    "id": "lLQqk0QQwGa5"
   },
   "outputs": [],
   "source": [
    "#km modelling\n",
    "km=KMeans(n_clusters=12)#applying k\n",
    "km.fit(Principal_Component_Analysis )#fit the data\n",
    "\n",
    "centroids = km.cluster_centers_"
   ]
  },
  {
   "cell_type": "code",
   "execution_count": null,
   "metadata": {
    "colab": {
     "base_uri": "https://localhost:8080/"
    },
    "id": "JRf4jbE0w3q6",
    "outputId": "1df3ef34-717f-40bc-bd60-f7acc36138fe"
   },
   "outputs": [],
   "source": [
    "#shows which group each datapoint belongs to\n",
    "km.labels_"
   ]
  },
  {
   "cell_type": "code",
   "execution_count": null,
   "metadata": {
    "colab": {
     "base_uri": "https://localhost:8080/"
    },
    "id": "9aUafTGkxDXy",
    "outputId": "c8eeb8a3-5649-4c63-ddf3-2b164bf10670"
   },
   "outputs": [],
   "source": [
    "#Predicts the labels of cluster\n",
    "label=km.fit_predict(Principal_Component_Analysis)\n",
    "print(label)"
   ]
  },
  {
   "cell_type": "code",
   "execution_count": null,
   "metadata": {
    "colab": {
     "base_uri": "https://localhost:8080/",
     "height": 398
    },
    "id": "lPOS1UbJxiXF",
    "outputId": "211510b3-b9d8-4f48-f999-23441148ea8f"
   },
   "outputs": [],
   "source": [
    "#Getting the centroids \n",
    "centroids=km.cluster_centers_\n",
    "llabels=np.unique(label)\n",
    "\n",
    "#plotting\n",
    "\n",
    "plt.figure(figsize=(10,6))\n",
    "for i in llabels:\n",
    "    plt.scatter(Principal_Component_Analysis[label == i,0],Principal_Component_Analysis[label == i,1],label =i)\n",
    "plt.scatter(centroids[:,0],centroids[:,1],s=100,c=\"k\",label=\"centroids\")\n",
    "plt.legend()\n",
    "plt.show()"
   ]
  },
  {
   "cell_type": "markdown",
   "metadata": {
    "id": "PhBd7z25zP9h"
   },
   "source": [
    "#Concatenating the label,NLP description  into original dataframe"
   ]
  },
  {
   "cell_type": "code",
   "execution_count": null,
   "metadata": {
    "colab": {
     "base_uri": "https://localhost:8080/",
     "height": 442
    },
    "id": "-6S2YbDTzSUf",
    "outputId": "99f4bd6a-439b-496b-d055-9d2ac543ecd5"
   },
   "outputs": [],
   "source": [
    "df5=pd.DataFrame(km.labels_)\n",
    "print(df5.shape)\n",
    "df5"
   ]
  },
  {
   "cell_type": "code",
   "execution_count": null,
   "metadata": {
    "colab": {
     "base_uri": "https://localhost:8080/",
     "height": 424
    },
    "id": "kVglQWe-6_ha",
    "outputId": "d7f24568-084e-4c28-a520-c7739022304b"
   },
   "outputs": [],
   "source": [
    "df2=df2.reset_index(drop=True)\n",
    "df2"
   ]
  },
  {
   "cell_type": "code",
   "execution_count": null,
   "metadata": {
    "colab": {
     "base_uri": "https://localhost:8080/",
     "height": 143
    },
    "id": "20W1KqwQ_nas",
    "outputId": "f753d72e-540c-4e1d-a22c-10f4af1aae69"
   },
   "outputs": [],
   "source": [
    "df6=df2.join(df5)\n",
    "df6.rename(columns={0:'Product Code'},inplace=True)\n",
    "df6.head(3)"
   ]
  },
  {
   "cell_type": "code",
   "execution_count": null,
   "metadata": {
    "colab": {
     "base_uri": "https://localhost:8080/",
     "height": 919
    },
    "id": "WpGbBuO9ANbI",
    "outputId": "4f4ae768-b6e1-4940-f6ac-d77edc6be076"
   },
   "outputs": [],
   "source": [
    "df8=pd.merge(df,df6,how=\"left\",on=\"Desc_new\")\n",
    "df8"
   ]
  },
  {
   "cell_type": "code",
   "execution_count": null,
   "metadata": {
    "colab": {
     "base_uri": "https://localhost:8080/",
     "height": 612
    },
    "id": "HdxS8fkcANQB",
    "outputId": "9319d169-4301-4e8b-e30a-cedace5f4c5a"
   },
   "outputs": [],
   "source": [
    "df9 = pd.get_dummies(df8,columns=[\"Product Code\"])##product code one hot encoding\n",
    "df9.head()       "
   ]
  },
  {
   "cell_type": "code",
   "execution_count": null,
   "metadata": {
    "id": "4OgTdlX7pS7v"
   },
   "outputs": [],
   "source": [
    "df10 = df9.copy() #copying df9 "
   ]
  },
  {
   "cell_type": "code",
   "execution_count": null,
   "metadata": {
    "colab": {
     "base_uri": "https://localhost:8080/",
     "height": 288
    },
    "id": "FGS1XCiopYS3",
    "outputId": "e20dfd75-90ff-4462-f94e-a4f8d83845bd"
   },
   "outputs": [],
   "source": [
    "df10 = df10.drop([\"InvoiceNo\",\"StockCode\",\"Description\",\"InvoiceDate\",\"Country\",\"Desc_new\"],axis=1)\n",
    "df10.head()"
   ]
  },
  {
   "cell_type": "markdown",
   "metadata": {
    "id": "NCVatVtZqG0h"
   },
   "source": [
    "Grouping the Customers based on CustomerID:"
   ]
  },
  {
   "cell_type": "code",
   "execution_count": null,
   "metadata": {
    "colab": {
     "base_uri": "https://localhost:8080/",
     "height": 536
    },
    "id": "aBkJMpf5qI5n",
    "outputId": "aaf202d8-08a0-4a7a-c4b3-39ccd5e30791"
   },
   "outputs": [],
   "source": [
    "df11 = df10.groupby(['CustomerID']).mean()\n",
    "df11"
   ]
  },
  {
   "cell_type": "code",
   "execution_count": null,
   "metadata": {
    "colab": {
     "base_uri": "https://localhost:8080/",
     "height": 382
    },
    "id": "19S1Xuk2qUVK",
    "outputId": "d3910c3e-40a2-4249-c554-36a72d98e43d"
   },
   "outputs": [],
   "source": [
    "df11.describe()"
   ]
  },
  {
   "cell_type": "code",
   "execution_count": null,
   "metadata": {
    "colab": {
     "base_uri": "https://localhost:8080/"
    },
    "id": "t4iNIbKsqdOm",
    "outputId": "ce4f495a-2485-4cda-f0d4-cc7c1368be4c"
   },
   "outputs": [],
   "source": [
    "# Converting into numpy array:\n",
    "\n",
    "y = df11.to_numpy()\n",
    "y"
   ]
  },
  {
   "cell_type": "code",
   "execution_count": null,
   "metadata": {
    "id": "YS2BVtUcqnM-"
   },
   "outputs": [],
   "source": [
    "\n",
    "from sklearn.preprocessing import StandardScaler, MinMaxScaler \n",
    "sc = MinMaxScaler() \n",
    "y_scaled = sc.fit_transform(y)"
   ]
  },
  {
   "cell_type": "code",
   "execution_count": null,
   "metadata": {
    "id": "uby2GtlLr3no"
   },
   "outputs": [],
   "source": [
    "list_k=list(range(1,15)) \n",
    "inertias = [] \n",
    "for k in list_k: \n",
    "    km = KMeans(n_clusters=k) \n",
    "    km.fit(y_scaled) \n",
    "    inertias.append(km.inertia_)\n",
    "    "
   ]
  },
  {
   "cell_type": "code",
   "execution_count": null,
   "metadata": {
    "colab": {
     "base_uri": "https://localhost:8080/",
     "height": 401
    },
    "id": "UrqZDSqBsEN0",
    "outputId": "6584125d-d77a-4ed7-df7d-07a5823e547c"
   },
   "outputs": [],
   "source": [
    "plt.figure(figsize = (5, 5)) \n",
    "plt.title('Elbow plot')\n",
    "plt.plot(list_k,inertias,'-o') \n",
    "plt.xlabel('Clusters of *k*') \n",
    "plt.ylabel('Sum of squared error')"
   ]
  },
  {
   "cell_type": "markdown",
   "metadata": {
    "id": "3S1jkpaCr99s"
   },
   "source": [
    "From Elbow plot we can say that the optimal  K value is at 4,thus the customers can be clusterd into 4 clusters based on their similarities"
   ]
  },
  {
   "cell_type": "code",
   "execution_count": null,
   "metadata": {
    "colab": {
     "base_uri": "https://localhost:8080/"
    },
    "id": "-l7RZJaQs-Ov",
    "outputId": "84cff9b9-4744-4c14-aa92-38b0bd81627e"
   },
   "outputs": [],
   "source": [
    "km = KMeans(n_clusters=4) # applying k = 4\n",
    "km.fit(y_scaled)# fit the data \n",
    "\n",
    "centroids = km.cluster_centers_ # final centroid points\n",
    "\n",
    "print(\"centroids: \",centroids)\n",
    "print(\"inertia: \",km.inertia_) "
   ]
  },
  {
   "cell_type": "code",
   "execution_count": null,
   "metadata": {
    "colab": {
     "base_uri": "https://localhost:8080/"
    },
    "id": "Txh9Jy3xtTCR",
    "outputId": "42f36893-c35c-42e5-cb33-f36f21e64a77"
   },
   "outputs": [],
   "source": [
    "km.labels_ "
   ]
  },
  {
   "cell_type": "code",
   "execution_count": null,
   "metadata": {
    "colab": {
     "base_uri": "https://localhost:8080/"
    },
    "id": "Swa6Xo89tWNk",
    "outputId": "c831f012-a279-4753-ce69-e20a5bbc6dd2"
   },
   "outputs": [],
   "source": [
    "label = km.fit_predict(y_scaled)  \n",
    "print(label)"
   ]
  },
  {
   "cell_type": "markdown",
   "metadata": {
    "id": "V4sHm4Mwtv28"
   },
   "source": [
    "Visualizing the customer clusters:"
   ]
  },
  {
   "cell_type": "code",
   "execution_count": null,
   "metadata": {
    "colab": {
     "base_uri": "https://localhost:8080/",
     "height": 340
    },
    "id": "v3GpUvintd67",
    "outputId": "da151040-22ec-44cd-ddd8-f5ca9dad52f0"
   },
   "outputs": [],
   "source": [
    "# Getting the Centroids and Cluster labels\n",
    "centroids = km.cluster_centers_\n",
    "labels = np.unique(label)\n",
    "\n",
    "#  plotting\n",
    "plt.figure(figsize=(5, 5)) \n",
    "for i in labels:\n",
    "    plt.scatter(y_scaled[label == i , 0] , y_scaled[label == i , 1] , label = i)\n",
    "plt.scatter(centroids[:,0] , centroids[:,1] ,  c=\"k\", s=150, label=\"centroids\")\n",
    "plt.legend()\n",
    "plt.show()"
   ]
  },
  {
   "cell_type": "markdown",
   "metadata": {
    "id": "sX81vWMsm622"
   },
   "source": [
    "Since the graph doesnt give a clear picture of the clusters formed ,we are converting the label to dataframe and assigne the respective labels to their clusters and plot them."
   ]
  },
  {
   "cell_type": "code",
   "execution_count": null,
   "metadata": {
    "colab": {
     "base_uri": "https://localhost:8080/",
     "height": 206
    },
    "id": "5NK-JqBMt30K",
    "outputId": "afcea199-65b4-4c3f-9ae0-71de7da240d9"
   },
   "outputs": [],
   "source": [
    "df13 = pd.DataFrame(label)\n",
    "df13.head()"
   ]
  },
  {
   "cell_type": "code",
   "execution_count": null,
   "metadata": {
    "colab": {
     "base_uri": "https://localhost:8080/",
     "height": 206
    },
    "id": "MgKaypbIuEw3",
    "outputId": "cc55ca9e-5721-4b4f-e7a1-6e1ff9341111"
   },
   "outputs": [],
   "source": [
    "df13.reset_index(level=0, inplace=True)       "
   ]
  },
  {
   "cell_type": "code",
   "execution_count": null,
   "metadata": {
    "colab": {
     "base_uri": "https://localhost:8080/",
     "height": 206
    },
    "id": "v6lia5jWuKx5",
    "outputId": "62693be6-a35b-462d-c43c-790af30cdefe"
   },
   "outputs": [],
   "source": [
    "df13.rename(columns={'index':'ID', 0:'Customer cluster'},inplace=True)\n",
    "df13.head()"
   ]
  },
  {
   "cell_type": "code",
   "execution_count": 238,
   "metadata": {
    "colab": {
     "base_uri": "https://localhost:8080/",
     "height": 206
    },
    "id": "6vuMTU-YuSES",
    "outputId": "bd2d684c-a9a3-41e6-9c50-ca163846f59a"
   },
   "outputs": [
    {
     "data": {
      "text/html": [
       "<div>\n",
       "<style scoped>\n",
       "    .dataframe tbody tr th:only-of-type {\n",
       "        vertical-align: middle;\n",
       "    }\n",
       "\n",
       "    .dataframe tbody tr th {\n",
       "        vertical-align: top;\n",
       "    }\n",
       "\n",
       "    .dataframe thead th {\n",
       "        text-align: right;\n",
       "    }\n",
       "</style>\n",
       "<table border=\"1\" class=\"dataframe\">\n",
       "  <thead>\n",
       "    <tr style=\"text-align: right;\">\n",
       "      <th></th>\n",
       "      <th>ID</th>\n",
       "    </tr>\n",
       "    <tr>\n",
       "      <th>Customer cluster</th>\n",
       "      <th></th>\n",
       "    </tr>\n",
       "  </thead>\n",
       "  <tbody>\n",
       "    <tr>\n",
       "      <th>0</th>\n",
       "      <td>879</td>\n",
       "    </tr>\n",
       "    <tr>\n",
       "      <th>1</th>\n",
       "      <td>2546</td>\n",
       "    </tr>\n",
       "    <tr>\n",
       "      <th>2</th>\n",
       "      <td>97</td>\n",
       "    </tr>\n",
       "    <tr>\n",
       "      <th>3</th>\n",
       "      <td>850</td>\n",
       "    </tr>\n",
       "  </tbody>\n",
       "</table>\n",
       "</div>"
      ],
      "text/plain": [
       "                    ID\n",
       "Customer cluster      \n",
       "0                  879\n",
       "1                 2546\n",
       "2                   97\n",
       "3                  850"
      ]
     },
     "execution_count": 238,
     "metadata": {},
     "output_type": "execute_result"
    }
   ],
   "source": [
    "df14 = df13.groupby(\"Customer cluster\").count()   \n",
    "df14"
   ]
  },
  {
   "cell_type": "code",
   "execution_count": 247,
   "metadata": {
    "colab": {
     "base_uri": "https://localhost:8080/",
     "height": 322
    },
    "id": "92YiYPbkuZ3h",
    "outputId": "17c3d109-2eb1-4bbf-89bf-0dfb53f5818e"
   },
   "outputs": [
    {
     "data": {
      "text/plain": [
       "<Axes: xlabel='Customer cluster', ylabel='count'>"
      ]
     },
     "execution_count": 247,
     "metadata": {},
     "output_type": "execute_result"
    },
    {
     "data": {
      "image/png": "[encoded data removed]",
      "text/plain": [
       "<Figure size 640x480 with 1 Axes>"
      ]
     },
     "metadata": {},
     "output_type": "display_data"
    }
   ],
   "source": [
    "\n",
    "import seaborn as sns \n",
    "sns.countplot(x=\"Customer cluster\",data=df13)\n"
   ]
  },
  {
   "cell_type": "markdown",
   "metadata": {
    "id": "cCMpklLdrWn_"
   },
   "source": [
    "From the  above graph Customer Cluster 1 is having the maximum number of Cutomers and cluster 2 has the minimum number of customers"
   ]
  },
  {
   "cell_type": "code",
   "execution_count": null,
   "metadata": {},
   "outputs": [],
   "source": []
  }
 ],
 "metadata": {
  "colab": {
   "authorship_tag": "ABX9TyMfTZvPABk2oUTJGE8FW1jc",
   "collapsed_sections": [],
   "include_colab_link": true,
   "name": "Project 3-E-commerce Customer Segementation.ipynb",
   "provenance": []
  },
  "kernelspec": {
   "display_name": "Python 3 (ipykernel)",
   "language": "python",
   "name": "python3"
  },
  "language_info": {
   "codemirror_mode": {
    "name": "ipython",
    "version": 3
   },
   "file_extension": ".py",
   "mimetype": "text/x-python",
   "name": "python",
   "nbconvert_exporter": "python",
   "pygments_lexer": "ipython3",
   "version": "3.11.5"
  }
 },
 "nbformat": 4,
 "nbformat_minor": 1
}
